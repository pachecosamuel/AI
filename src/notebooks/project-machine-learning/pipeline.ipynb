{
 "cells": [
  {
   "cell_type": "code",
   "execution_count": 5,
   "id": "dc72226a",
   "metadata": {},
   "outputs": [],
   "source": [
    "import numpy as np\n",
    "import matplotlib.pyplot as plt\n",
    "import matplotlib\n",
    "import pandas as pd\n",
    "#matplotlib iline"
   ]
  },
  {
   "cell_type": "code",
   "execution_count": 12,
   "id": "7d7864d0",
   "metadata": {},
   "outputs": [
    {
     "name": "stdout",
     "output_type": "stream",
     "text": [
      "  category  reviews numbers  instalations numbers   size  price  \\\n",
      "0    games              432                  1289  275.0    0.0   \n",
      "\n",
      "   days since last update  rating  \n",
      "0                      92    2.15  \n"
     ]
    }
   ],
   "source": [
    "data = {\n",
    "    \"category\": [\"games\", \"productivity\", \"books\", \"games\", \"games\"],\n",
    "    \"reviews numbers\": [432, 178, 301, 98, 235],\n",
    "    \"instalations numbers\": [1289, 1623, 1045, 993, 1262],\n",
    "    \"size\": [275, 187, 298, np.nan, 201],\n",
    "    \"price\": [0, -0.3, 0.73, 0, 0.91],\n",
    "    \"days since last update\": [92, 68, 74, 79, 103],\n",
    "    \"rating\": [2.15, 2.31, 1.52, 1.67, 2.97],\n",
    "}\n",
    "\n",
    "df = pd.DataFrame(data)\n",
    "print(df.head(1))"
   ]
  }
 ],
 "metadata": {
  "kernelspec": {
   "display_name": ".venv",
   "language": "python",
   "name": "python3"
  },
  "language_info": {
   "codemirror_mode": {
    "name": "ipython",
    "version": 3
   },
   "file_extension": ".py",
   "mimetype": "text/x-python",
   "name": "python",
   "nbconvert_exporter": "python",
   "pygments_lexer": "ipython3",
   "version": "3.12.2"
  }
 },
 "nbformat": 4,
 "nbformat_minor": 5
}
