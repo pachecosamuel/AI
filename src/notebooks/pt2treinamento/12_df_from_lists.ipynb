{
 "cells": [
  {
   "cell_type": "code",
   "execution_count": 1,
   "id": "57507b22",
   "metadata": {},
   "outputs": [],
   "source": [
    "import pandas as pd"
   ]
  },
  {
   "cell_type": "code",
   "execution_count": 2,
   "id": "d56f32c7",
   "metadata": {},
   "outputs": [
    {
     "name": "stdout",
     "output_type": "stream",
     "text": [
      "       Ages      Name\n",
      "Row 1    25      John\n",
      "Row 2    30  Catharin\n"
     ]
    }
   ],
   "source": [
    "df = pd.DataFrame(data=[[25, 'John'], [30, 'Catharin']],\n",
    "                  columns=[\"Ages\", \"Name\"],\n",
    "                  index=[\"Row 1\", \"Row 2\"])\n",
    "\n",
    "print(df)"
   ]
  }
 ],
 "metadata": {
  "kernelspec": {
   "display_name": "artificialinteligence-xUhJQjXL-py3.13",
   "language": "python",
   "name": "python3"
  },
  "language_info": {
   "codemirror_mode": {
    "name": "ipython",
    "version": 3
   },
   "file_extension": ".py",
   "mimetype": "text/x-python",
   "name": "python",
   "nbconvert_exporter": "python",
   "pygments_lexer": "ipython3",
   "version": "3.13.0"
  }
 },
 "nbformat": 4,
 "nbformat_minor": 5
}
