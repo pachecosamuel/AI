{
 "cells": [
  {
   "cell_type": "code",
   "execution_count": 1,
   "id": "fecdbdc0",
   "metadata": {},
   "outputs": [],
   "source": [
    "import pandas as pd"
   ]
  },
  {
   "cell_type": "code",
   "execution_count": 3,
   "id": "f1cd2e44",
   "metadata": {},
   "outputs": [
    {
     "name": "stdout",
     "output_type": "stream",
     "text": [
      "   ID_Curso        Instrutor               AE  Inscritos  Avaliacao\n",
      "0     MT101        Ana Silva     Marcos Lopes       55.0        4.8\n",
      "1     MT101      Bruno Gomes        Julia Vaz       43.0        4.9\n",
      "2     MT102      Carlos Dias    Sofia Cardoso       60.0        4.7\n",
      "3     MT102        Ana Silva   Rodrigo Mattos       58.0        NaN\n",
      "4     MT102       Luiz Costa     Marcos Lopes        NaN        4.5\n",
      "5     MT103    Sandra Moraes     Pedro Mendes       47.0        4.6\n",
      "6     MT103      Bruno Gomes  Alice Gonçalves       50.0        4.7\n",
      "7     MT104      Carlos Dias        Julia Vaz       52.0        4.4\n",
      "8     MT104    Sandra Moraes      Paulo Souza       55.0        4.8\n",
      "9     FI101  Gabriel Ribeiro      Carla Souza       40.0        4.9\n",
      "10    FI101      Maria Clara    Sofia Cardoso       42.0        4.7\n",
      "11    FI102  Gabriel Ribeiro      Paulo Souza       39.0        4.6\n",
      "12    FI102   Roberta Vieira     Pedro Mendes       41.0        4.8\n",
      "13    FI103      Maria Clara  Alice Gonçalves       45.0        4.6\n",
      "14    FI103       Luiz Costa    Sofia Cardoso       48.0        4.5\n",
      "15    FI104   Roberta Vieira        Julia Vaz       50.0        4.7\n",
      "16    FI104        Ana Silva     Marcos Lopes       53.0        4.8\n",
      "17    HI101    Pedro Álvares      Carla Souza       44.0        4.5\n",
      "18    HI102    Sandra Moraes     Marcos Lopes       46.0        4.9\n",
      "19    HI103  Gabriel Ribeiro      Paulo Souza       49.0        4.6\n",
      "\n",
      "   Código_Curso   Nome_Instrutor Assistente_Administrativo  Total_Inscritos  \\\n",
      "0         MT101        Ana Silva              Marcos Lopes             55.0   \n",
      "1         MT101      Bruno Gomes                 Julia Vaz             43.0   \n",
      "2         MT102      Carlos Dias             Sofia Cardoso             60.0   \n",
      "3         MT102        Ana Silva            Rodrigo Mattos             58.0   \n",
      "4         MT102       Luiz Costa              Marcos Lopes              NaN   \n",
      "5         MT103    Sandra Moraes              Pedro Mendes             47.0   \n",
      "6         MT103      Bruno Gomes           Alice Gonçalves             50.0   \n",
      "7         MT104      Carlos Dias                 Julia Vaz             52.0   \n",
      "8         MT104    Sandra Moraes               Paulo Souza             55.0   \n",
      "9         FI101  Gabriel Ribeiro               Carla Souza             40.0   \n",
      "10        FI101      Maria Clara             Sofia Cardoso             42.0   \n",
      "11        FI102  Gabriel Ribeiro               Paulo Souza             39.0   \n",
      "12        FI102   Roberta Vieira              Pedro Mendes             41.0   \n",
      "13        FI103      Maria Clara           Alice Gonçalves             45.0   \n",
      "14        FI103       Luiz Costa             Sofia Cardoso             48.0   \n",
      "15        FI104   Roberta Vieira                 Julia Vaz             50.0   \n",
      "16        FI104        Ana Silva              Marcos Lopes             53.0   \n",
      "17        HI101    Pedro Álvares               Carla Souza             44.0   \n",
      "18        HI102    Sandra Moraes              Marcos Lopes             46.0   \n",
      "19        HI103  Gabriel Ribeiro               Paulo Souza             49.0   \n",
      "\n",
      "    Média_Avaliação  \n",
      "0               4.8  \n",
      "1               4.9  \n",
      "2               4.7  \n",
      "3               NaN  \n",
      "4               4.5  \n",
      "5               4.6  \n",
      "6               4.7  \n",
      "7               4.4  \n",
      "8               4.8  \n",
      "9               4.9  \n",
      "10              4.7  \n",
      "11              4.6  \n",
      "12              4.8  \n",
      "13              4.6  \n",
      "14              4.5  \n",
      "15              4.7  \n",
      "16              4.8  \n",
      "17              4.5  \n",
      "18              4.9  \n",
      "19              4.6  \n",
      "\n"
     ]
    }
   ],
   "source": [
    "classData = pd.read_csv(\"pandas-sample-data.csv\")\n",
    "print(classData, end=\"\\n\\n\")\n",
    "columns = [\"Código_Curso\", \"Nome_Instrutor\", \"Assistente_Administrativo\", \"Total_Inscritos\", \"Média_Avaliação\"]\n",
    "classData.columns = columns\n",
    "print(classData, end=\"\\n\\n\")\n"
   ]
  },
  {
   "cell_type": "code",
   "execution_count": 8,
   "id": "5244bd98",
   "metadata": {},
   "outputs": [
    {
     "name": "stdout",
     "output_type": "stream",
     "text": [
      "   código_curso   nome_instrutor assistente_administrativo  total_inscritos  \\\n",
      "0         MT101        Ana Silva              Marcos Lopes             55.0   \n",
      "1         MT101      Bruno Gomes                 Julia Vaz             43.0   \n",
      "2         MT102      Carlos Dias             Sofia Cardoso             60.0   \n",
      "3         MT102        Ana Silva            Rodrigo Mattos             58.0   \n",
      "4         MT102       Luiz Costa              Marcos Lopes              NaN   \n",
      "5         MT103    Sandra Moraes              Pedro Mendes             47.0   \n",
      "6         MT103      Bruno Gomes           Alice Gonçalves             50.0   \n",
      "7         MT104      Carlos Dias                 Julia Vaz             52.0   \n",
      "8         MT104    Sandra Moraes               Paulo Souza             55.0   \n",
      "9         FI101  Gabriel Ribeiro               Carla Souza             40.0   \n",
      "10        FI101      Maria Clara             Sofia Cardoso             42.0   \n",
      "11        FI102  Gabriel Ribeiro               Paulo Souza             39.0   \n",
      "12        FI102   Roberta Vieira              Pedro Mendes             41.0   \n",
      "13        FI103      Maria Clara           Alice Gonçalves             45.0   \n",
      "14        FI103       Luiz Costa             Sofia Cardoso             48.0   \n",
      "15        FI104   Roberta Vieira                 Julia Vaz             50.0   \n",
      "16        FI104        Ana Silva              Marcos Lopes             53.0   \n",
      "17        HI101    Pedro Álvares               Carla Souza             44.0   \n",
      "18        HI102    Sandra Moraes              Marcos Lopes             46.0   \n",
      "19        HI103  Gabriel Ribeiro               Paulo Souza             49.0   \n",
      "\n",
      "    média_avaliação  \n",
      "0               4.8  \n",
      "1               4.9  \n",
      "2               4.7  \n",
      "3               NaN  \n",
      "4               4.5  \n",
      "5               4.6  \n",
      "6               4.7  \n",
      "7               4.4  \n",
      "8               4.8  \n",
      "9               4.9  \n",
      "10              4.7  \n",
      "11              4.6  \n",
      "12              4.8  \n",
      "13              4.6  \n",
      "14              4.5  \n",
      "15              4.7  \n",
      "16              4.8  \n",
      "17              4.5  \n",
      "18              4.9  \n",
      "19              4.6  \n"
     ]
    }
   ],
   "source": [
    "classData.rename(columns= lambda x: x.lower().replace(\" \", \"_\"), inplace=True)\n",
    "\n",
    "print(classData)"
   ]
  },
  {
   "cell_type": "code",
   "execution_count": 10,
   "id": "0ae58c1e",
   "metadata": {},
   "outputs": [
    {
     "name": "stdout",
     "output_type": "stream",
     "text": [
      "               código_curso   nome_instrutor assistente_administrativo  \\\n",
      "linha_linha_0         MT101        Ana Silva              Marcos Lopes   \n",
      "linha_linha_1         MT101      Bruno Gomes                 Julia Vaz   \n",
      "linha_linha_2         MT102      Carlos Dias             Sofia Cardoso   \n",
      "linha_linha_3         MT102        Ana Silva            Rodrigo Mattos   \n",
      "linha_linha_4         MT102       Luiz Costa              Marcos Lopes   \n",
      "linha_linha_5         MT103    Sandra Moraes              Pedro Mendes   \n",
      "linha_linha_6         MT103      Bruno Gomes           Alice Gonçalves   \n",
      "linha_linha_7         MT104      Carlos Dias                 Julia Vaz   \n",
      "linha_linha_8         MT104    Sandra Moraes               Paulo Souza   \n",
      "linha_linha_9         FI101  Gabriel Ribeiro               Carla Souza   \n",
      "linha_linha_10        FI101      Maria Clara             Sofia Cardoso   \n",
      "linha_linha_11        FI102  Gabriel Ribeiro               Paulo Souza   \n",
      "linha_linha_12        FI102   Roberta Vieira              Pedro Mendes   \n",
      "linha_linha_13        FI103      Maria Clara           Alice Gonçalves   \n",
      "linha_linha_14        FI103       Luiz Costa             Sofia Cardoso   \n",
      "linha_linha_15        FI104   Roberta Vieira                 Julia Vaz   \n",
      "linha_linha_16        FI104        Ana Silva              Marcos Lopes   \n",
      "linha_linha_17        HI101    Pedro Álvares               Carla Souza   \n",
      "linha_linha_18        HI102    Sandra Moraes              Marcos Lopes   \n",
      "linha_linha_19        HI103  Gabriel Ribeiro               Paulo Souza   \n",
      "\n",
      "                total_inscritos  média_avaliação  \n",
      "linha_linha_0              55.0              4.8  \n",
      "linha_linha_1              43.0              4.9  \n",
      "linha_linha_2              60.0              4.7  \n",
      "linha_linha_3              58.0              NaN  \n",
      "linha_linha_4               NaN              4.5  \n",
      "linha_linha_5              47.0              4.6  \n",
      "linha_linha_6              50.0              4.7  \n",
      "linha_linha_7              52.0              4.4  \n",
      "linha_linha_8              55.0              4.8  \n",
      "linha_linha_9              40.0              4.9  \n",
      "linha_linha_10             42.0              4.7  \n",
      "linha_linha_11             39.0              4.6  \n",
      "linha_linha_12             41.0              4.8  \n",
      "linha_linha_13             45.0              4.6  \n",
      "linha_linha_14             48.0              4.5  \n",
      "linha_linha_15             50.0              4.7  \n",
      "linha_linha_16             53.0              4.8  \n",
      "linha_linha_17             44.0              4.5  \n",
      "linha_linha_18             46.0              4.9  \n",
      "linha_linha_19             49.0              4.6  \n"
     ]
    }
   ],
   "source": [
    "classData.rename(index=lambda i: 'linha_' + str(i), inplace=True)\n",
    "print(classData)"
   ]
  },
  {
   "cell_type": "code",
   "execution_count": 11,
   "id": "2dc5b351",
   "metadata": {},
   "outputs": [
    {
     "name": "stdout",
     "output_type": "stream",
     "text": [
      "linha_linha_0        Marcos Lopes\n",
      "linha_linha_1           Julia Vaz\n",
      "linha_linha_2       Sofia Cardoso\n",
      "linha_linha_3      Rodrigo Mattos\n",
      "linha_linha_4        Marcos Lopes\n",
      "linha_linha_5        Pedro Mendes\n",
      "linha_linha_6     Alice Gonçalves\n",
      "linha_linha_7           Julia Vaz\n",
      "linha_linha_8         Paulo Souza\n",
      "linha_linha_9         Carla Souza\n",
      "linha_linha_10      Sofia Cardoso\n",
      "linha_linha_11        Paulo Souza\n",
      "linha_linha_12       Pedro Mendes\n",
      "linha_linha_13    Alice Gonçalves\n",
      "linha_linha_14      Sofia Cardoso\n",
      "linha_linha_15          Julia Vaz\n",
      "linha_linha_16       Marcos Lopes\n",
      "linha_linha_17        Carla Souza\n",
      "linha_linha_18       Marcos Lopes\n",
      "linha_linha_19        Paulo Souza\n",
      "Name: assistente_administrativo, dtype: object\n"
     ]
    }
   ],
   "source": [
    "print(f\"{classData[\"assistente_administrativo\"]}\")"
   ]
  },
  {
   "cell_type": "code",
   "execution_count": null,
   "id": "48dab78d",
   "metadata": {},
   "outputs": [],
   "source": []
  },
  {
   "cell_type": "code",
   "execution_count": null,
   "id": "52e5c464",
   "metadata": {},
   "outputs": [],
   "source": []
  },
  {
   "cell_type": "code",
   "execution_count": null,
   "id": "518e6082",
   "metadata": {},
   "outputs": [],
   "source": []
  }
 ],
 "metadata": {
  "kernelspec": {
   "display_name": ".venv",
   "language": "python",
   "name": "python3"
  },
  "language_info": {
   "codemirror_mode": {
    "name": "ipython",
    "version": 3
   },
   "file_extension": ".py",
   "mimetype": "text/x-python",
   "name": "python",
   "nbconvert_exporter": "python",
   "pygments_lexer": "ipython3",
   "version": "3.12.2"
  }
 },
 "nbformat": 4,
 "nbformat_minor": 5
}
