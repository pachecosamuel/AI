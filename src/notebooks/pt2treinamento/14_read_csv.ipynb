{
 "cells": [
  {
   "cell_type": "code",
   "execution_count": 3,
   "metadata": {},
   "outputs": [],
   "source": [
    "import pandas as pd\n",
    "\n",
    "classData = pd.read_csv(\"pandas-sample-data.csv\")"
   ]
  },
  {
   "cell_type": "code",
   "execution_count": 5,
   "metadata": {},
   "outputs": [
    {
     "name": "stdout",
     "output_type": "stream",
     "text": [
      "  ID_Curso    Instrutor              AE  Inscritos  Avaliacao\n",
      "0    MT101    Ana Silva    Marcos Lopes       55.0        4.8\n",
      "1    MT101  Bruno Gomes       Julia Vaz       43.0        4.9\n",
      "2    MT102  Carlos Dias   Sofia Cardoso       60.0        4.7\n",
      "3    MT102    Ana Silva  Rodrigo Mattos       58.0        NaN\n",
      "4    MT102   Luiz Costa    Marcos Lopes        NaN        4.5\n",
      "\n",
      "   ID_Curso        Instrutor            AE  Inscritos  Avaliacao\n",
      "15    FI104   Roberta Vieira     Julia Vaz       50.0        4.7\n",
      "16    FI104        Ana Silva  Marcos Lopes       53.0        4.8\n",
      "17    HI101    Pedro Álvares   Carla Souza       44.0        4.5\n",
      "18    HI102    Sandra Moraes  Marcos Lopes       46.0        4.9\n",
      "19    HI103  Gabriel Ribeiro   Paulo Souza       49.0        4.6\n",
      "\n"
     ]
    }
   ],
   "source": [
    "# show the first five rows\n",
    "print(classData.head(), end=\"\\n\\n\")\n",
    "\n",
    "# show the last five rows\n",
    "print(classData.tail(), end=\"\\n\\n\")\n"
   ]
  },
  {
   "cell_type": "code",
   "execution_count": 6,
   "metadata": {},
   "outputs": [
    {
     "name": "stdout",
     "output_type": "stream",
     "text": [
      "ID_Curso      object\n",
      "Instrutor     object\n",
      "AE            object\n",
      "Inscritos    float64\n",
      "Avaliacao    float64\n",
      "dtype: object\n",
      "\n",
      "<bound method DataFrame.info of    ID_Curso        Instrutor               AE  Inscritos  Avaliacao\n",
      "0     MT101        Ana Silva     Marcos Lopes       55.0        4.8\n",
      "1     MT101      Bruno Gomes        Julia Vaz       43.0        4.9\n",
      "2     MT102      Carlos Dias    Sofia Cardoso       60.0        4.7\n",
      "3     MT102        Ana Silva   Rodrigo Mattos       58.0        NaN\n",
      "4     MT102       Luiz Costa     Marcos Lopes        NaN        4.5\n",
      "5     MT103    Sandra Moraes     Pedro Mendes       47.0        4.6\n",
      "6     MT103      Bruno Gomes  Alice Gonçalves       50.0        4.7\n",
      "7     MT104      Carlos Dias        Julia Vaz       52.0        4.4\n",
      "8     MT104    Sandra Moraes      Paulo Souza       55.0        4.8\n",
      "9     FI101  Gabriel Ribeiro      Carla Souza       40.0        4.9\n",
      "10    FI101      Maria Clara    Sofia Cardoso       42.0        4.7\n",
      "11    FI102  Gabriel Ribeiro      Paulo Souza       39.0        4.6\n",
      "12    FI102   Roberta Vieira     Pedro Mendes       41.0        4.8\n",
      "13    FI103      Maria Clara  Alice Gonçalves       45.0        4.6\n",
      "14    FI103       Luiz Costa    Sofia Cardoso       48.0        4.5\n",
      "15    FI104   Roberta Vieira        Julia Vaz       50.0        4.7\n",
      "16    FI104        Ana Silva     Marcos Lopes       53.0        4.8\n",
      "17    HI101    Pedro Álvares      Carla Souza       44.0        4.5\n",
      "18    HI102    Sandra Moraes     Marcos Lopes       46.0        4.9\n",
      "19    HI103  Gabriel Ribeiro      Paulo Souza       49.0        4.6>\n",
      "\n"
     ]
    }
   ],
   "source": [
    "# datatypes\n",
    "print(classData.dtypes, end=\"\\n\\n\")\n",
    "\n",
    "# some infos\n",
    "print(classData.info, end=\"\\n\\n\")"
   ]
  },
  {
   "cell_type": "code",
   "execution_count": 7,
   "metadata": {},
   "outputs": [
    {
     "name": "stdout",
     "output_type": "stream",
     "text": [
      "       Inscritos  Avaliacao\n",
      "count  19.000000  19.000000\n",
      "mean   48.263158   4.684211\n",
      "std     6.126827   0.150049\n",
      "min    39.000000   4.400000\n",
      "25%    43.500000   4.600000\n",
      "50%    48.000000   4.700000\n",
      "75%    52.500000   4.800000\n",
      "max    60.000000   4.900000\n",
      "\n",
      "       ID_Curso  Instrutor            AE\n",
      "count        20         20            20\n",
      "unique       11          9             8\n",
      "top       MT102  Ana Silva  Marcos Lopes\n",
      "freq          3          3             4\n",
      "\n"
     ]
    }
   ],
   "source": [
    "# statistic summary of the numeric  columns\n",
    "print(classData.describe(), end=\"\\n\\n\")\n",
    "\n",
    "# statistic summary of the categoric  columns\n",
    "print(classData.describe(include=[object]), end=\"\\n\\n\")\n"
   ]
  },
  {
   "cell_type": "code",
   "execution_count": 8,
   "metadata": {},
   "outputs": [
    {
     "name": "stdout",
     "output_type": "stream",
     "text": [
      "Instrutor\n",
      "Ana Silva          3\n",
      "Sandra Moraes      3\n",
      "Gabriel Ribeiro    3\n",
      "Carlos Dias        2\n",
      "Bruno Gomes        2\n",
      "Luiz Costa         2\n",
      "Maria Clara        2\n",
      "Roberta Vieira     2\n",
      "Pedro Álvares      1\n",
      "Name: count, dtype: int64\n",
      "\n",
      "AE\n",
      "Marcos Lopes       4\n",
      "Julia Vaz          3\n",
      "Sofia Cardoso      3\n",
      "Paulo Souza        3\n",
      "Alice Gonçalves    2\n",
      "Pedro Mendes       2\n",
      "Carla Souza        2\n",
      "Rodrigo Mattos     1\n",
      "Name: count, dtype: int64\n",
      "\n"
     ]
    }
   ],
   "source": [
    "# count unique instructors\n",
    "print(classData['Instrutor'].value_counts(), end=\"\\n\\n\")\n",
    "\n",
    "# count unique AE\n",
    "print(classData['AE'].value_counts(), end=\"\\n\\n\")\n"
   ]
  },
  {
   "cell_type": "code",
   "execution_count": 16,
   "metadata": {},
   "outputs": [
    {
     "name": "stdout",
     "output_type": "stream",
     "text": [
      "    Avaliacao  Inscritos\n",
      "0         4.8       55.0\n",
      "1         4.9       43.0\n",
      "2         4.7       60.0\n",
      "3         NaN       58.0\n",
      "4         4.5        NaN\n",
      "5         4.6       47.0\n",
      "6         4.7       50.0\n",
      "7         4.4       52.0\n",
      "8         4.8       55.0\n",
      "9         4.9       40.0\n",
      "10        4.7       42.0\n",
      "11        4.6       39.0\n",
      "12        4.8       41.0\n",
      "13        4.6       45.0\n",
      "14        4.5       48.0\n",
      "15        4.7       50.0\n",
      "16        4.8       53.0\n",
      "17        4.5       44.0\n",
      "18        4.9       46.0\n",
      "19        4.6       49.0\n",
      "\n",
      "\n",
      "   ID_Curso        Instrutor               AE  Inscritos  Avaliacao\n",
      "0     MT101        Ana Silva     Marcos Lopes       55.0        4.8\n",
      "1     MT101      Bruno Gomes        Julia Vaz       43.0        4.9\n",
      "2     MT102      Carlos Dias    Sofia Cardoso       60.0        4.7\n",
      "4     MT102       Luiz Costa     Marcos Lopes        NaN        4.5\n",
      "5     MT103    Sandra Moraes     Pedro Mendes       47.0        4.6\n",
      "6     MT103      Bruno Gomes  Alice Gonçalves       50.0        4.7\n",
      "8     MT104    Sandra Moraes      Paulo Souza       55.0        4.8\n",
      "9     FI101  Gabriel Ribeiro      Carla Souza       40.0        4.9\n",
      "10    FI101      Maria Clara    Sofia Cardoso       42.0        4.7\n",
      "11    FI102  Gabriel Ribeiro      Paulo Souza       39.0        4.6\n",
      "12    FI102   Roberta Vieira     Pedro Mendes       41.0        4.8\n",
      "13    FI103      Maria Clara  Alice Gonçalves       45.0        4.6\n",
      "14    FI103       Luiz Costa    Sofia Cardoso       48.0        4.5\n",
      "15    FI104   Roberta Vieira        Julia Vaz       50.0        4.7\n",
      "16    FI104        Ana Silva     Marcos Lopes       53.0        4.8\n",
      "17    HI101    Pedro Álvares      Carla Souza       44.0        4.5\n",
      "18    HI102    Sandra Moraes     Marcos Lopes       46.0        4.9\n",
      "19    HI103  Gabriel Ribeiro      Paulo Souza       49.0        4.6\n",
      "\n",
      "\n"
     ]
    }
   ],
   "source": [
    "# selecting specific columns \n",
    "df_avalation_subscribers = classData[['Avaliacao', 'Inscritos']]\n",
    "print(df_avalation_subscribers, end=\"\\n\\n\\n\")\n",
    "\n",
    "df_filtered = classData[classData['Avaliacao'] >= 4.5]\n",
    "print(df_filtered, end=\"\\n\\n\\n\")"
   ]
  },
  {
   "cell_type": "code",
   "execution_count": 15,
   "metadata": {},
   "outputs": [
    {
     "name": "stdout",
     "output_type": "stream",
     "text": [
      "   ID_Curso        Instrutor               AE  Inscritos  Avaliacao\n",
      "1     MT101      Bruno Gomes        Julia Vaz       43.0        4.9\n",
      "18    HI102    Sandra Moraes     Marcos Lopes       46.0        4.9\n",
      "9     FI101  Gabriel Ribeiro      Carla Souza       40.0        4.9\n",
      "16    FI104        Ana Silva     Marcos Lopes       53.0        4.8\n",
      "0     MT101        Ana Silva     Marcos Lopes       55.0        4.8\n",
      "12    FI102   Roberta Vieira     Pedro Mendes       41.0        4.8\n",
      "8     MT104    Sandra Moraes      Paulo Souza       55.0        4.8\n",
      "2     MT102      Carlos Dias    Sofia Cardoso       60.0        4.7\n",
      "15    FI104   Roberta Vieira        Julia Vaz       50.0        4.7\n",
      "6     MT103      Bruno Gomes  Alice Gonçalves       50.0        4.7\n",
      "10    FI101      Maria Clara    Sofia Cardoso       42.0        4.7\n",
      "19    HI103  Gabriel Ribeiro      Paulo Souza       49.0        4.6\n",
      "13    FI103      Maria Clara  Alice Gonçalves       45.0        4.6\n",
      "11    FI102  Gabriel Ribeiro      Paulo Souza       39.0        4.6\n",
      "5     MT103    Sandra Moraes     Pedro Mendes       47.0        4.6\n",
      "14    FI103       Luiz Costa    Sofia Cardoso       48.0        4.5\n",
      "4     MT102       Luiz Costa     Marcos Lopes        NaN        4.5\n",
      "17    HI101    Pedro Álvares      Carla Souza       44.0        4.5\n",
      "7     MT104      Carlos Dias        Julia Vaz       52.0        4.4\n",
      "3     MT102        Ana Silva   Rodrigo Mattos       58.0        NaN\n",
      "\n",
      "\n"
     ]
    }
   ],
   "source": [
    "# order by evaluation descending\n",
    "\n",
    "df_ordered = classData.sort_values(by='Avaliacao', ascending=False)\n",
    "\n",
    "print(df_ordered, end=\"\\n\\n\\n\")"
   ]
  },
  {
   "cell_type": "code",
   "execution_count": 17,
   "metadata": {},
   "outputs": [
    {
     "name": "stdout",
     "output_type": "stream",
     "text": [
      "Instrutor\n",
      "Ana Silva          55.333333\n",
      "Bruno Gomes        46.500000\n",
      "Carlos Dias        56.000000\n",
      "Gabriel Ribeiro    42.666667\n",
      "Luiz Costa         48.000000\n",
      "Maria Clara        43.500000\n",
      "Pedro Álvares      44.000000\n",
      "Roberta Vieira     45.500000\n",
      "Sandra Moraes      49.333333\n",
      "Name: Inscritos, dtype: float64\n"
     ]
    }
   ],
   "source": [
    "# group by instructor and get subscribers average\n",
    "df_subs_group = classData.groupby('Instrutor')['Inscritos'].mean()\n",
    "print(df_subs_group)"
   ]
  },
  {
   "cell_type": "code",
   "execution_count": 18,
   "metadata": {},
   "outputs": [
    {
     "name": "stdout",
     "output_type": "stream",
     "text": [
      "ID_Curso     0\n",
      "Instrutor    0\n",
      "AE           0\n",
      "Inscritos    1\n",
      "Avaliacao    1\n",
      "dtype: int64\n",
      "\n",
      "\n",
      "   ID_Curso        Instrutor               AE  Inscritos  Avaliacao\n",
      "0     MT101        Ana Silva     Marcos Lopes       55.0   4.800000\n",
      "1     MT101      Bruno Gomes        Julia Vaz       43.0   4.900000\n",
      "2     MT102      Carlos Dias    Sofia Cardoso       60.0   4.700000\n",
      "3     MT102        Ana Silva   Rodrigo Mattos       58.0   4.684211\n",
      "4     MT102       Luiz Costa     Marcos Lopes        NaN   4.500000\n",
      "5     MT103    Sandra Moraes     Pedro Mendes       47.0   4.600000\n",
      "6     MT103      Bruno Gomes  Alice Gonçalves       50.0   4.700000\n",
      "7     MT104      Carlos Dias        Julia Vaz       52.0   4.400000\n",
      "8     MT104    Sandra Moraes      Paulo Souza       55.0   4.800000\n",
      "9     FI101  Gabriel Ribeiro      Carla Souza       40.0   4.900000\n",
      "10    FI101      Maria Clara    Sofia Cardoso       42.0   4.700000\n",
      "11    FI102  Gabriel Ribeiro      Paulo Souza       39.0   4.600000\n",
      "12    FI102   Roberta Vieira     Pedro Mendes       41.0   4.800000\n",
      "13    FI103      Maria Clara  Alice Gonçalves       45.0   4.600000\n",
      "14    FI103       Luiz Costa    Sofia Cardoso       48.0   4.500000\n",
      "15    FI104   Roberta Vieira        Julia Vaz       50.0   4.700000\n",
      "16    FI104        Ana Silva     Marcos Lopes       53.0   4.800000\n",
      "17    HI101    Pedro Álvares      Carla Souza       44.0   4.500000\n",
      "18    HI102    Sandra Moraes     Marcos Lopes       46.0   4.900000\n",
      "19    HI103  Gabriel Ribeiro      Paulo Souza       49.0   4.600000\n"
     ]
    }
   ],
   "source": [
    "# identifying missing values\n",
    "print(classData.isnull().sum(), end=\"\\n\\n\\n\")\n",
    "\n",
    "# filling missing values\n",
    "df_filled = classData.fillna({'Avaliacao': classData['Avaliacao'].mean()})\n",
    "print(df_filled)"
   ]
  },
  {
   "cell_type": "code",
   "execution_count": 19,
   "metadata": {},
   "outputs": [
    {
     "data": {
      "text/plain": [
       "<Axes: ylabel='Frequency'>"
      ]
     },
     "execution_count": 19,
     "metadata": {},
     "output_type": "execute_result"
    },
    {
     "data": {
      "image/png": "[encoded data removed]",
      "text/plain": [
       "<Figure size 640x480 with 1 Axes>"
      ]
     },
     "metadata": {},
     "output_type": "display_data"
    }
   ],
   "source": [
    "# ploting evaluating distribuition\n",
    "\n",
    "classData['Avaliacao'].plot(kind='hist')"
   ]
  }
 ],
 "metadata": {
  "kernelspec": {
   "display_name": "artificialinteligence-xUhJQjXL-py3.13",
   "language": "python",
   "name": "python3"
  },
  "language_info": {
   "codemirror_mode": {
    "name": "ipython",
    "version": 3
   },
   "file_extension": ".py",
   "mimetype": "text/x-python",
   "name": "python",
   "nbconvert_exporter": "python",
   "pygments_lexer": "ipython3",
   "version": "3.13.0"
  }
 },
 "nbformat": 4,
 "nbformat_minor": 2
}
