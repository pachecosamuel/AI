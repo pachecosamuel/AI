{
 "cells": [
  {
   "cell_type": "code",
   "execution_count": 2,
   "id": "6a0a541e",
   "metadata": {},
   "outputs": [],
   "source": [
    "import pandas as pd"
   ]
  },
  {
   "cell_type": "code",
   "execution_count": 4,
   "id": "143c61fa",
   "metadata": {},
   "outputs": [
    {
     "name": "stdout",
     "output_type": "stream",
     "text": [
      "   ID_Curso        Instrutor               AE  Inscritos  Avaliacao\n",
      "0     MT101        Ana Silva     Marcos Lopes       55.0        4.8\n",
      "1     MT101      Bruno Gomes        Julia Vaz       43.0        4.9\n",
      "2     MT102      Carlos Dias    Sofia Cardoso       60.0        4.7\n",
      "3     MT102        Ana Silva   Rodrigo Mattos       58.0        NaN\n",
      "4     MT102       Luiz Costa     Marcos Lopes        NaN        4.5\n",
      "5     MT103    Sandra Moraes     Pedro Mendes       47.0        4.6\n",
      "6     MT103      Bruno Gomes  Alice Gonçalves       50.0        4.7\n",
      "7     MT104      Carlos Dias        Julia Vaz       52.0        4.4\n",
      "8     MT104    Sandra Moraes      Paulo Souza       55.0        4.8\n",
      "9     FI101  Gabriel Ribeiro      Carla Souza       40.0        4.9\n",
      "10    FI101      Maria Clara    Sofia Cardoso       42.0        4.7\n",
      "11    FI102  Gabriel Ribeiro      Paulo Souza       39.0        4.6\n",
      "12    FI102   Roberta Vieira     Pedro Mendes       41.0        4.8\n",
      "13    FI103      Maria Clara  Alice Gonçalves       45.0        4.6\n",
      "14    FI103       Luiz Costa    Sofia Cardoso       48.0        4.5\n",
      "15    FI104   Roberta Vieira        Julia Vaz       50.0        4.7\n",
      "16    FI104        Ana Silva     Marcos Lopes       53.0        4.8\n",
      "17    HI101    Pedro Álvares      Carla Souza       44.0        4.5\n",
      "18    HI102    Sandra Moraes     Marcos Lopes       46.0        4.9\n",
      "19    HI103  Gabriel Ribeiro      Paulo Souza       49.0        4.6\n"
     ]
    }
   ],
   "source": [
    "classData = pd.read_csv(\"pandas-sample-data.csv\")\n",
    "print(classData)"
   ]
  },
  {
   "cell_type": "code",
   "execution_count": 6,
   "id": "603f8d9d",
   "metadata": {},
   "outputs": [
    {
     "name": "stdout",
     "output_type": "stream",
     "text": [
      "0           Ana Silva\n",
      "1         Bruno Gomes\n",
      "2         Carlos Dias\n",
      "3           Ana Silva\n",
      "4          Luiz Costa\n",
      "5       Sandra Moraes\n",
      "6         Bruno Gomes\n",
      "7         Carlos Dias\n",
      "8       Sandra Moraes\n",
      "9     Gabriel Ribeiro\n",
      "10        Maria Clara\n",
      "11    Gabriel Ribeiro\n",
      "12     Roberta Vieira\n",
      "13        Maria Clara\n",
      "14         Luiz Costa\n",
      "15     Roberta Vieira\n",
      "16          Ana Silva\n",
      "17      Pedro Álvares\n",
      "18      Sandra Moraes\n",
      "19    Gabriel Ribeiro\n",
      "Name: Instrutor, dtype: object\n",
      "\n",
      "0        Marcos Lopes\n",
      "1           Julia Vaz\n",
      "2       Sofia Cardoso\n",
      "3      Rodrigo Mattos\n",
      "4        Marcos Lopes\n",
      "5        Pedro Mendes\n",
      "6     Alice Gonçalves\n",
      "7           Julia Vaz\n",
      "8         Paulo Souza\n",
      "9         Carla Souza\n",
      "10      Sofia Cardoso\n",
      "11        Paulo Souza\n",
      "12       Pedro Mendes\n",
      "13    Alice Gonçalves\n",
      "14      Sofia Cardoso\n",
      "15          Julia Vaz\n",
      "16       Marcos Lopes\n",
      "17        Carla Souza\n",
      "18       Marcos Lopes\n",
      "19        Paulo Souza\n",
      "Name: AE, dtype: object\n",
      "\n"
     ]
    }
   ],
   "source": [
    "# selecting specified cols by atributtes\n",
    "print(f\"{classData.Instrutor}\", end=\"\\n\\n\")\n",
    "\n",
    "# selecting specified cols ny name\n",
    "print(f\"{classData['AE']}\", end=\"\\n\\n\")"
   ]
  },
  {
   "cell_type": "code",
   "execution_count": 9,
   "id": "7c558243",
   "metadata": {},
   "outputs": [
    {
     "name": "stdout",
     "output_type": "stream",
     "text": [
      "0      True\n",
      "1      True\n",
      "2     False\n",
      "3     False\n",
      "4     False\n",
      "5     False\n",
      "6     False\n",
      "7     False\n",
      "8      True\n",
      "9      True\n",
      "10    False\n",
      "11    False\n",
      "12     True\n",
      "13    False\n",
      "14    False\n",
      "15    False\n",
      "16     True\n",
      "17    False\n",
      "18     True\n",
      "19    False\n",
      "Name: Avaliacao, dtype: bool\n",
      "\n",
      "   ID_Curso        Instrutor            AE  Inscritos  Avaliacao\n",
      "0     MT101        Ana Silva  Marcos Lopes       55.0        4.8\n",
      "1     MT101      Bruno Gomes     Julia Vaz       43.0        4.9\n",
      "8     MT104    Sandra Moraes   Paulo Souza       55.0        4.8\n",
      "9     FI101  Gabriel Ribeiro   Carla Souza       40.0        4.9\n",
      "12    FI102   Roberta Vieira  Pedro Mendes       41.0        4.8\n",
      "16    FI104        Ana Silva  Marcos Lopes       53.0        4.8\n",
      "18    HI102    Sandra Moraes  Marcos Lopes       46.0        4.9\n",
      "\n"
     ]
    }
   ],
   "source": [
    "array_boolean = classData[\"Avaliacao\"] > 4.7\n",
    "print(f\"{array_boolean}\", end=\"\\n\\n\")\n",
    "\n",
    "cursos_top = classData[array_boolean]\n",
    "print(f\"{cursos_top}\", end=\"\\n\\n\")"
   ]
  },
  {
   "cell_type": "code",
   "execution_count": 13,
   "id": "38fb9885",
   "metadata": {},
   "outputs": [
    {
     "name": "stdout",
     "output_type": "stream",
     "text": [
      "0           Ana Silva\n",
      "1         Bruno Gomes\n",
      "8       Sandra Moraes\n",
      "9     Gabriel Ribeiro\n",
      "12     Roberta Vieira\n",
      "16          Ana Silva\n",
      "18      Sandra Moraes\n",
      "Name: Instrutor, dtype: object\n",
      "\n"
     ]
    }
   ],
   "source": [
    "instructors_by_top_evaluations = classData.loc[classData.Avaliacao > 4.7, \"Instrutor\"]\n",
    "\n",
    "print(f\"{instructors_by_top_evaluations}\", end=\"\\n\\n\")"
   ]
  },
  {
   "cell_type": "code",
   "execution_count": 14,
   "id": "6751a799",
   "metadata": {},
   "outputs": [
    {
     "name": "stdout",
     "output_type": "stream",
     "text": [
      "     Instrutor  Avaliacao\n",
      "0    Ana Silva        4.8\n",
      "1  Bruno Gomes        4.9\n",
      "2  Carlos Dias        4.7\n",
      "3    Ana Silva        NaN\n"
     ]
    }
   ],
   "source": [
    "using_iloc = classData.iloc[0:4, [1,4]]\n",
    "\n",
    "print(using_iloc)"
   ]
  }
 ],
 "metadata": {
  "kernelspec": {
   "display_name": ".venv",
   "language": "python",
   "name": "python3"
  },
  "language_info": {
   "codemirror_mode": {
    "name": "ipython",
    "version": 3
   },
   "file_extension": ".py",
   "mimetype": "text/x-python",
   "name": "python",
   "nbconvert_exporter": "python",
   "pygments_lexer": "ipython3",
   "version": "3.12.2"
  }
 },
 "nbformat": 4,
 "nbformat_minor": 5
}
