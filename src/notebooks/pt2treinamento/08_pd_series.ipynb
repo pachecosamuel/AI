{
 "cells": [
  {
   "cell_type": "code",
   "execution_count": 2,
   "id": "d60d7ace",
   "metadata": {},
   "outputs": [],
   "source": [
    "import pandas as pd"
   ]
  },
  {
   "cell_type": "code",
   "execution_count": 3,
   "id": "b0de0566",
   "metadata": {},
   "outputs": [
    {
     "name": "stdout",
     "output_type": "stream",
     "text": [
      "[20, 25, 30]\n",
      "\n",
      "0    20\n",
      "1    25\n",
      "2    30\n",
      "dtype: int64\n",
      "\n"
     ]
    }
   ],
   "source": [
    "ages = [20, 25, 30]\n",
    "ages_series = pd.Series(ages)\n",
    "\n",
    "print(ages, end=\"\\n\\n\")\n",
    "print(ages_series, end=\"\\n\\n\")\n",
    "\n"
   ]
  },
  {
   "cell_type": "code",
   "execution_count": null,
   "id": "3b91ea9b",
   "metadata": {},
   "outputs": [
    {
     "name": "stdout",
     "output_type": "stream",
     "text": [
      "John    20\n",
      "Sam     25\n",
      "Pet     30\n",
      "dtype: int64\n"
     ]
    }
   ],
   "source": [
    "ages_names_series = pd.Series(data=ages, index=[\"John\", \"Sam\", \"Pet\"])\n",
    "print(ages_names_series, end=\"\\n\")"
   ]
  },
  {
   "cell_type": "code",
   "execution_count": 5,
   "id": "cc5d1109",
   "metadata": {},
   "outputs": [
    {
     "name": "stdout",
     "output_type": "stream",
     "text": [
      "0        100\n",
      "1      Money\n",
      "2    19562.2\n",
      "dtype: object\n",
      "\n"
     ]
    }
   ],
   "source": [
    "mixed_types = pd.Series(data=[100, 'Money', 19562.20])\n",
    "print(mixed_types, end=\"\\n\\n\")"
   ]
  }
 ],
 "metadata": {
  "kernelspec": {
   "display_name": ".venv",
   "language": "python",
   "name": "python3"
  },
  "language_info": {
   "codemirror_mode": {
    "name": "ipython",
    "version": 3
   },
   "file_extension": ".py",
   "mimetype": "text/x-python",
   "name": "python",
   "nbconvert_exporter": "python",
   "pygments_lexer": "ipython3",
   "version": "3.12.2"
  }
 },
 "nbformat": 4,
 "nbformat_minor": 5
}
