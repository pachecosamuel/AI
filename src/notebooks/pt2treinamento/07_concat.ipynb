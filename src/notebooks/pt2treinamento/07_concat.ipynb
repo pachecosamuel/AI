{
 "cells": [
  {
   "cell_type": "code",
   "execution_count": 4,
   "id": "f5361f29",
   "metadata": {},
   "outputs": [
    {
     "name": "stdout",
     "output_type": "stream",
     "text": [
      "[[1 2]\n",
      " [3 4]] \n",
      "\n",
      "\n",
      "[[5 6]]\n"
     ]
    }
   ],
   "source": [
    "import numpy as np\n",
    "\n",
    "mat_1 = np.array([[1,2], [3,4]])\n",
    "mat_2 = np.array([[5,6]])\n",
    "\n",
    "print(f\"{mat_1} \\n\\n\")\n",
    "print(mat_2)"
   ]
  },
  {
   "cell_type": "code",
   "execution_count": 10,
   "id": "19ba5db6",
   "metadata": {},
   "outputs": [
    {
     "name": "stdout",
     "output_type": "stream",
     "text": [
      "mat_2 = \n",
      "[[5]\n",
      " [6]]\n",
      "\n",
      "\n",
      "Concat =\n",
      " [[1 2 5]\n",
      " [3 4 6]]\n"
     ]
    }
   ],
   "source": [
    "mat_2 = mat_2.reshape(2, -1)\n",
    "print(f\"mat_2 = \\n{mat_2}\\n\\n\")\n",
    "\n",
    "concat = np.concatenate((mat_1, mat_2), axis=1)\n",
    "print(f\"Concat =\\n {concat}\")"
   ]
  }
 ],
 "metadata": {
  "kernelspec": {
   "display_name": ".venv",
   "language": "python",
   "name": "python3"
  },
  "language_info": {
   "codemirror_mode": {
    "name": "ipython",
    "version": 3
   },
   "file_extension": ".py",
   "mimetype": "text/x-python",
   "name": "python",
   "nbconvert_exporter": "python",
   "pygments_lexer": "ipython3",
   "version": "3.12.2"
  }
 },
 "nbformat": 4,
 "nbformat_minor": 5
}
