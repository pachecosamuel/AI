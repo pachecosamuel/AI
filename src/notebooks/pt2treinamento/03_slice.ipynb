{
 "cells": [
  {
   "cell_type": "code",
   "execution_count": 2,
   "id": "24bcb898",
   "metadata": {},
   "outputs": [],
   "source": [
    "import numpy as np"
   ]
  },
  {
   "cell_type": "code",
   "execution_count": 3,
   "id": "d1332b6a",
   "metadata": {},
   "outputs": [
    {
     "name": "stdout",
     "output_type": "stream",
     "text": [
      "Matriz NumPy:\n",
      "[[1 3 5]\n",
      " [2 4 6]\n",
      " [7 8 9]] \n",
      " shape = (3, 3)\n"
     ]
    }
   ],
   "source": [
    "# Criando uma matriz NumPy 2D a partir da sua lista original\n",
    "vector_np = np.array([[1, 3, 5], [2, 4, 6], [7, 8, 9]])\n",
    "print(f\"Matriz NumPy:\\n{vector_np} \\n shape = {vector_np.shape}\")"
   ]
  },
  {
   "cell_type": "code",
   "execution_count": 4,
   "id": "883ea2f3",
   "metadata": {},
   "outputs": [
    {
     "name": "stdout",
     "output_type": "stream",
     "text": [
      "\n",
      "Última coluna:\n",
      "[7 8 9]\n"
     ]
    }
   ],
   "source": [
    "# Slicing to obtain all the values from the last columns\n",
    "ultima_coluna_np = vector_np[2, :]\n",
    "print(f\"\\nÚltima coluna:\\n{ultima_coluna_np}\")"
   ]
  },
  {
   "cell_type": "code",
   "execution_count": 7,
   "id": "0d1de749",
   "metadata": {},
   "outputs": [
    {
     "name": "stdout",
     "output_type": "stream",
     "text": [
      "\n",
      "Última linha:\n",
      "9\n"
     ]
    }
   ],
   "source": [
    "ultima_linha_np = vector_np[2, 2]\n",
    "print(f\"\\nÚltima linha:\\n{ultima_linha_np}\")"
   ]
  }
 ],
 "metadata": {
  "kernelspec": {
   "display_name": ".venv",
   "language": "python",
   "name": "python3"
  },
  "language_info": {
   "codemirror_mode": {
    "name": "ipython",
    "version": 3
   },
   "file_extension": ".py",
   "mimetype": "text/x-python",
   "name": "python",
   "nbconvert_exporter": "python",
   "pygments_lexer": "ipython3",
   "version": "3.12.2"
  }
 },
 "nbformat": 4,
 "nbformat_minor": 5
}
