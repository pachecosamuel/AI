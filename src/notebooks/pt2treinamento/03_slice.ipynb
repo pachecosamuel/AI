{
 "cells": [
  {
   "cell_type": "code",
   "execution_count": 10,
   "id": "24bcb898",
   "metadata": {},
   "outputs": [],
   "source": [
    "import numpy as np"
   ]
  },
  {
   "cell_type": "code",
   "execution_count": 11,
   "id": "d1332b6a",
   "metadata": {},
   "outputs": [
    {
     "name": "stdout",
     "output_type": "stream",
     "text": [
      "Matriz NumPy:\n",
      "[[1 3 5]\n",
      " [2 4 6]\n",
      " [7 8 9]]\n",
      "\n",
      "Última coluna:\n",
      "[5 6 9]\n"
     ]
    }
   ],
   "source": [
    "# Criando uma matriz NumPy 2D a partir da sua lista original\n",
    "vector_np = np.array([[1, 3, 5], [2, 4, 6], [7, 8, 9]])\n",
    "print(f\"Matriz NumPy:\\n{vector_np}\")\n",
    "\n",
    "# Slicing para obter a última coluna\n",
    "ultima_coluna_np = vector_np[:, 2]\n",
    "print(f\"\\nÚltima coluna:\\n{ultima_coluna_np}\")"
   ]
  },
  {
   "cell_type": "code",
   "execution_count": null,
   "id": "8ecc21a5",
   "metadata": {},
   "outputs": [],
   "source": [
    "vector = [[1, 3, 5], [2, 4, 6], [7, 8, 9]]\n",
    "print(f\"First matrix 3x3 = {vector}\")"
   ]
  },
  {
   "cell_type": "code",
   "execution_count": null,
   "id": "5ab2f116",
   "metadata": {},
   "outputs": [],
   "source": [
    "# lets slice!\n",
    "print(f\"Second row, third column, value = {vector[1][2]}\")\n",
    "\n",
    "print(f\"It'll be a slice, showing all the values for the first row: {vector[0][:]}\")\n",
    "\n",
    "print(f\"It'll also a slice, showing all the values of the last column: {vector[:][2]}\")"
   ]
  }
 ],
 "metadata": {
  "kernelspec": {
   "display_name": ".venv",
   "language": "python",
   "name": "python3"
  },
  "language_info": {
   "codemirror_mode": {
    "name": "ipython",
    "version": 3
   },
   "file_extension": ".py",
   "mimetype": "text/x-python",
   "name": "python",
   "nbconvert_exporter": "python",
   "pygments_lexer": "ipython3",
   "version": "3.12.2"
  }
 },
 "nbformat": 4,
 "nbformat_minor": 5
}
