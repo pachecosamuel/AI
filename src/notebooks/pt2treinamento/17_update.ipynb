{
 "cells": [
  {
   "cell_type": "code",
   "execution_count": 1,
   "id": "258862dd",
   "metadata": {},
   "outputs": [
    {
     "name": "stdout",
     "output_type": "stream",
     "text": [
      "   ID_Curso        Instrutor               AE  Inscritos  Avaliacao\n",
      "0     MT101        Ana Silva     Marcos Lopes       55.0        4.8\n",
      "1     MT101      Bruno Gomes        Julia Vaz       43.0        4.9\n",
      "2     MT102      Carlos Dias    Sofia Cardoso       60.0        4.7\n",
      "3     MT102        Ana Silva   Rodrigo Mattos       58.0        NaN\n",
      "4     MT102       Luiz Costa     Marcos Lopes        NaN        4.5\n",
      "5     MT103    Sandra Moraes     Pedro Mendes       47.0        4.6\n",
      "6     MT103      Bruno Gomes  Alice Gonçalves       50.0        4.7\n",
      "7     MT104      Carlos Dias        Julia Vaz       52.0        4.4\n",
      "8     MT104    Sandra Moraes      Paulo Souza       55.0        4.8\n",
      "9     FI101  Gabriel Ribeiro      Carla Souza       40.0        4.9\n",
      "10    FI101      Maria Clara    Sofia Cardoso       42.0        4.7\n",
      "11    FI102  Gabriel Ribeiro      Paulo Souza       39.0        4.6\n",
      "12    FI102   Roberta Vieira     Pedro Mendes       41.0        4.8\n",
      "13    FI103      Maria Clara  Alice Gonçalves       45.0        4.6\n",
      "14    FI103       Luiz Costa    Sofia Cardoso       48.0        4.5\n",
      "15    FI104   Roberta Vieira        Julia Vaz       50.0        4.7\n",
      "16    FI104        Ana Silva     Marcos Lopes       53.0        4.8\n",
      "17    HI101    Pedro Álvares      Carla Souza       44.0        4.5\n",
      "18    HI102    Sandra Moraes     Marcos Lopes       46.0        4.9\n",
      "19    HI103  Gabriel Ribeiro      Paulo Souza       49.0        4.6\n"
     ]
    }
   ],
   "source": [
    "import pandas as pd\n",
    "classData = pd.read_csv(\"pandas-sample-data.csv\")\n",
    "classData.loc[(classData['ID_Curso'] == 'MT_102') & (classData[\"Instrutor\"] == \"Luiz Costa\"), 'Inscritos'] = 59\n",
    "print(classData)"
   ]
  },
  {
   "cell_type": "code",
   "execution_count": 2,
   "id": "735dd684",
   "metadata": {},
   "outputs": [
    {
     "name": "stdout",
     "output_type": "stream",
     "text": [
      "   ID_Curso      Instrutor              AE  Inscritos  Avaliacao\n",
      "0     MT101      Ana Silva    Marcos Lopes       55.0        4.8\n",
      "2     MT102    Carlos Dias   Sofia Cardoso       60.0        4.7\n",
      "3     MT102      Ana Silva  Rodrigo Mattos       58.0        NaN\n",
      "7     MT104    Carlos Dias       Julia Vaz       52.0        4.4\n",
      "8     MT104  Sandra Moraes     Paulo Souza       55.0        4.8\n",
      "16    FI104      Ana Silva    Marcos Lopes       53.0        4.8\n"
     ]
    }
   ],
   "source": [
    "print(classData.loc[(classData['Inscritos'] > 50.0)])"
   ]
  },
  {
   "cell_type": "code",
   "execution_count": null,
   "id": "8b1df812",
   "metadata": {},
   "outputs": [],
   "source": []
  }
 ],
 "metadata": {
  "kernelspec": {
   "display_name": ".venv",
   "language": "python",
   "name": "python3"
  },
  "language_info": {
   "codemirror_mode": {
    "name": "ipython",
    "version": 3
   },
   "file_extension": ".py",
   "mimetype": "text/x-python",
   "name": "python",
   "nbconvert_exporter": "python",
   "pygments_lexer": "ipython3",
   "version": "3.12.2"
  }
 },
 "nbformat": 4,
 "nbformat_minor": 5
}
