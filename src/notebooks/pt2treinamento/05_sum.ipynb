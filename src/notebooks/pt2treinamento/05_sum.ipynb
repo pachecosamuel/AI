{
 "cells": [
  {
   "cell_type": "code",
   "execution_count": 1,
   "id": "755cef7a",
   "metadata": {},
   "outputs": [],
   "source": [
    "import numpy as np"
   ]
  },
  {
   "cell_type": "code",
   "execution_count": 2,
   "id": "e030570c",
   "metadata": {},
   "outputs": [
    {
     "name": "stdout",
     "output_type": "stream",
     "text": [
      "Our matrix = [[10 20]\n",
      " [30 40]\n",
      " [50 60]]\n"
     ]
    }
   ],
   "source": [
    "matrix = np.array([[10,20], [30,40], [50,60]])\n",
    "print(f\"Our matrix = {matrix}\")"
   ]
  },
  {
   "cell_type": "code",
   "execution_count": 4,
   "id": "bf8c1c51",
   "metadata": {},
   "outputs": [
    {
     "name": "stdout",
     "output_type": "stream",
     "text": [
      "Sum lines = [ 30  70 110]\n",
      "\n",
      "Sum lines = [ 90 120]\n",
      "\n",
      "Sum lines = 210\n",
      "\n",
      "Average = 35.0\n",
      "\n"
     ]
    }
   ],
   "source": [
    "#sum the lines\n",
    "sum_lines = matrix.sum(axis=1)\n",
    "print(f\"Sum lines = {sum_lines}\\n\")\n",
    "\n",
    "#sum the columns\n",
    "sum_col = matrix.sum(axis=0)\n",
    "print(f\"Sum lines = {sum_col}\\n\")\n",
    "\n",
    "#sum everything\n",
    "_sum = matrix.sum()\n",
    "print(f\"Sum lines = {_sum}\\n\")\n",
    "\n",
    "#matrix average\n",
    "matrix_mean = matrix.mean()\n",
    "print(f\"Average = {matrix_mean}\\n\")"
   ]
  }
 ],
 "metadata": {
  "kernelspec": {
   "display_name": ".venv",
   "language": "python",
   "name": "python3"
  },
  "language_info": {
   "codemirror_mode": {
    "name": "ipython",
    "version": 3
   },
   "file_extension": ".py",
   "mimetype": "text/x-python",
   "name": "python",
   "nbconvert_exporter": "python",
   "pygments_lexer": "ipython3",
   "version": "3.12.2"
  }
 },
 "nbformat": 4,
 "nbformat_minor": 5
}
