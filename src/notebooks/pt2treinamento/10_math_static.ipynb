{
 "cells": [
  {
   "cell_type": "code",
   "execution_count": 1,
   "id": "2207e997",
   "metadata": {},
   "outputs": [],
   "source": [
    "import pandas as pd"
   ]
  },
  {
   "cell_type": "code",
   "execution_count": null,
   "id": "b0c945e3",
   "metadata": {},
   "outputs": [
    {
     "name": "stdout",
     "output_type": "stream",
     "text": [
      "0     10\n",
      "1     20\n",
      "2     30\n",
      "3     40\n",
      "4    100\n",
      "dtype: int64\n"
     ]
    }
   ],
   "source": [
    "series = pd.Series(data=[10, 20, 30, 40, 100])\n",
    "print(series)"
   ]
  },
  {
   "cell_type": "code",
   "execution_count": 8,
   "id": "cbda454a",
   "metadata": {},
   "outputs": [
    {
     "name": "stdout",
     "output_type": "stream",
     "text": [
      "Mean = 40.0\n",
      "Median = 30.0\n",
      "Standard Deviation = 35.35533905932738\n"
     ]
    }
   ],
   "source": [
    "print(f\"Mean = {series.mean()}\", end=\"\\n\")\n",
    "\n",
    "print(f\"Median = {series.median()}\", end=\"\\n\")\n",
    "\n",
    "print(f\"Standard Deviation = {series.std()}\", end=\"\\n\")"
   ]
  },
  {
   "cell_type": "code",
   "execution_count": 9,
   "id": "e873917d",
   "metadata": {},
   "outputs": [
    {
     "name": "stdout",
     "output_type": "stream",
     "text": [
      "Values above the mean = 0    False\n",
      "1    False\n",
      "2    False\n",
      "3    False\n",
      "4     True\n",
      "dtype: bool\n",
      "\n",
      "Values threshold = 4    100\n",
      "dtype: int64\n",
      "\n"
     ]
    }
   ],
   "source": [
    "values_above_mean = series > series.mean()\n",
    "print(f\"Values above the mean = {values_above_mean}\", end=\"\\n\\n\")\n",
    "\n",
    "#selecting only value above a determined threshold\n",
    "selected_values = series[series > 50]\n",
    "print(f\"Values threshold = {selected_values}\", end=\"\\n\\n\")"
   ]
  }
 ],
 "metadata": {
  "kernelspec": {
   "display_name": "artificialinteligence-xUhJQjXL-py3.13",
   "language": "python",
   "name": "python3"
  },
  "language_info": {
   "codemirror_mode": {
    "name": "ipython",
    "version": 3
   },
   "file_extension": ".py",
   "mimetype": "text/x-python",
   "name": "python",
   "nbconvert_exporter": "python",
   "pygments_lexer": "ipython3",
   "version": "3.13.0"
  }
 },
 "nbformat": 4,
 "nbformat_minor": 5
}
