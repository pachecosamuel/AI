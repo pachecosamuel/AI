{
 "cells": [
  {
   "cell_type": "code",
   "execution_count": 5,
   "metadata": {},
   "outputs": [],
   "source": [
    "import pandas as pd\n",
    "import numpy as np"
   ]
  },
  {
   "cell_type": "code",
   "execution_count": 3,
   "metadata": {},
   "outputs": [
    {
     "name": "stdout",
     "output_type": "stream",
     "text": [
      "DF from dict: \n",
      "       ID   Nomes  Ages\n",
      "row 1   1  Samuel    27\n",
      "row 2   2   Pedro    28\n",
      "row 3   3   Maria    29\n"
     ]
    }
   ],
   "source": [
    "data = {\n",
    "    'ID':[1,2,3],\n",
    "    'Nomes':[\"Samuel\", \"Pedro\", \"Maria\"],\n",
    "    'Ages':[27, 28, 29]\n",
    "}\n",
    "\n",
    "df = pd.DataFrame(data=data, index=[\"row 1\", \"row 2\", \"row 3\"])\n",
    "\n",
    "print(f\"DF from dict: \\n{df}\", end=\"\\n\")"
   ]
  },
  {
   "cell_type": "code",
   "execution_count": 4,
   "metadata": {},
   "outputs": [
    {
     "name": "stdout",
     "output_type": "stream",
     "text": [
      "       ID   Nomes  Ages  annual_salaries\n",
      "row 1   1  Samuel    27           120000\n",
      "row 2   2   Pedro    28            80000\n",
      "row 3   3   Maria    29           100000\n"
     ]
    }
   ],
   "source": [
    "df['annual_salaries'] = [120000, 80000, 100000]\n",
    "\n",
    "print(df)"
   ]
  },
  {
   "cell_type": "code",
   "execution_count": 9,
   "metadata": {},
   "outputs": [
    {
     "name": "stdout",
     "output_type": "stream",
     "text": [
      "        A         B          C\n",
      "1° row  1  0.000000 2025-05-31\n",
      "2° row  2  1.570796 2025-06-30\n",
      "3° row  3  3.141593 2025-07-31\n"
     ]
    }
   ],
   "source": [
    "df_complex = pd.DataFrame(\n",
    "    data={\n",
    "        'A': pd.Series(data=[1,2,3], index=['1° row', '2° row', '3° row']),\n",
    "        'B': np.linspace(0, np.pi, 3),\n",
    "        'C': pd.date_range(start=\"20250501\", periods=3, freq='ME')\n",
    "    }\n",
    ")\n",
    "\n",
    "print(df_complex)"
   ]
  }
 ],
 "metadata": {
  "kernelspec": {
   "display_name": "artificialinteligence-xUhJQjXL-py3.13",
   "language": "python",
   "name": "python3"
  },
  "language_info": {
   "codemirror_mode": {
    "name": "ipython",
    "version": 3
   },
   "file_extension": ".py",
   "mimetype": "text/x-python",
   "name": "python",
   "nbconvert_exporter": "python",
   "pygments_lexer": "ipython3",
   "version": "3.13.0"
  }
 },
 "nbformat": 4,
 "nbformat_minor": 2
}
