{
 "cells": [
  {
   "cell_type": "code",
   "execution_count": 1,
   "id": "5f3ca87f",
   "metadata": {},
   "outputs": [
    {
     "name": "stdout",
     "output_type": "stream",
     "text": [
      "Matriz NumPy:\n",
      "[[  1   3   5   7   9]\n",
      " [  2   4   6   8  10]\n",
      " [ 70  80  90 100 110]]\n"
     ]
    }
   ],
   "source": [
    "import numpy as np\n",
    "\n",
    "# Criando uma matriz NumPy 2D a partir da sua lista original\n",
    "matriz = np.array([[1, 3, 5, 7, 9], [2, 4, 6, 8, 10], [70, 80, 90, 100, 110]])\n",
    "print(f\"Matriz NumPy:\\n{matriz}\")"
   ]
  },
  {
   "cell_type": "code",
   "execution_count": 13,
   "id": "5e80f0ad",
   "metadata": {},
   "outputs": [
    {
     "name": "stdout",
     "output_type": "stream",
     "text": [
      "[ 70  90 110]\n"
     ]
    }
   ],
   "source": [
    "linha_com_step_array = matriz[2, ::2]\n",
    "print(linha_com_step_array)"
   ]
  },
  {
   "cell_type": "code",
   "execution_count": 2,
   "id": "2758265d",
   "metadata": {},
   "outputs": [
    {
     "name": "stdout",
     "output_type": "stream",
     "text": [
      "[ 2  6 10]\n"
     ]
    }
   ],
   "source": [
    "odds_array_2 = matriz[1, 0:5:2]\n",
    "print(odds_array_2)"
   ]
  }
 ],
 "metadata": {
  "kernelspec": {
   "display_name": ".venv",
   "language": "python",
   "name": "python3"
  },
  "language_info": {
   "codemirror_mode": {
    "name": "ipython",
    "version": 3
   },
   "file_extension": ".py",
   "mimetype": "text/x-python",
   "name": "python",
   "nbconvert_exporter": "python",
   "pygments_lexer": "ipython3",
   "version": "3.12.2"
  }
 },
 "nbformat": 4,
 "nbformat_minor": 5
}
