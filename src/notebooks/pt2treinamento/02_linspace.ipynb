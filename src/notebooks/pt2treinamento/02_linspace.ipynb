{
 "cells": [
  {
   "cell_type": "code",
   "execution_count": 1,
   "id": "e70d0f88",
   "metadata": {},
   "outputs": [],
   "source": [
    "import numpy as np"
   ]
  },
  {
   "cell_type": "code",
   "execution_count": 6,
   "id": "3ac1a190",
   "metadata": {},
   "outputs": [
    {
     "name": "stdout",
     "output_type": "stream",
     "text": [
      "array = [2 4 6 8]\n",
      "array shape = (4,)\n",
      "array type = int64\n"
     ]
    }
   ],
   "source": [
    "# creating a np array\n",
    "first_array = np.array([2,4,6,8])\n",
    "print(f\"array = {first_array}\")\n",
    "print(f\"array shape = {first_array.shape}\")\n",
    "print(f\"array type = {first_array.dtype}\")"
   ]
  },
  {
   "cell_type": "code",
   "execution_count": 8,
   "id": "924674ac",
   "metadata": {},
   "outputs": [
    {
     "name": "stdout",
     "output_type": "stream",
     "text": [
      "Using linspace = [0.  0.2 0.4 0.6 0.8 1. ]\n"
     ]
    }
   ],
   "source": [
    "# using linspace\n",
    "sec_array = np.linspace(0, 1, 6)\n",
    "print(f\"Using linspace = {sec_array}\")"
   ]
  },
  {
   "cell_type": "code",
   "execution_count": 11,
   "id": "f04feec9",
   "metadata": {},
   "outputs": [
    {
     "name": "stdout",
     "output_type": "stream",
     "text": [
      "[0. 0.]\n",
      "[1. 1.]\n"
     ]
    }
   ],
   "source": [
    "print(np.zeros(2))\n",
    "print(np.ones(2))"
   ]
  }
 ],
 "metadata": {
  "kernelspec": {
   "display_name": ".venv",
   "language": "python",
   "name": "python3"
  },
  "language_info": {
   "codemirror_mode": {
    "name": "ipython",
    "version": 3
   },
   "file_extension": ".py",
   "mimetype": "text/x-python",
   "name": "python",
   "nbconvert_exporter": "python",
   "pygments_lexer": "ipython3",
   "version": "3.12.2"
  }
 },
 "nbformat": 4,
 "nbformat_minor": 5
}
