{
 "cells": [
  {
   "cell_type": "code",
   "execution_count": 1,
   "id": "0a5402dc",
   "metadata": {},
   "outputs": [],
   "source": [
    "import pandas as pd\n",
    "import numpy as np"
   ]
  },
  {
   "cell_type": "code",
   "execution_count": 3,
   "id": "7be8ee13",
   "metadata": {},
   "outputs": [
    {
     "name": "stdout",
     "output_type": "stream",
     "text": [
      "January      30.1\n",
      "February      NaN\n",
      "March        28.5\n",
      "April        21.5\n",
      "May          20.2\n",
      "June         18.4\n",
      "July         16.5\n",
      "August       17.0\n",
      "September    19.5\n",
      "October      23.4\n",
      "November      NaN\n",
      "December     29.9\n",
      "dtype: float64\n"
     ]
    }
   ],
   "source": [
    "temperatures = pd.Series(data=[30.1, np.nan, 28.5, 21.5, 20.2, 18.4, 16.5, 17.0, 19.5, 23.4, np.nan, 29.9],\n",
    "                         index=[\"January\", \"February\", \"March\", \"April\", \"May\", \"June\", \"July\", \"August\", \n",
    "                                \"September\", \"October\", \"November\", \"December\"])\n",
    "\n",
    "print(temperatures)"
   ]
  },
  {
   "cell_type": "code",
   "execution_count": 6,
   "id": "4222371c",
   "metadata": {},
   "outputs": [
    {
     "name": "stdout",
     "output_type": "stream",
     "text": [
      "January      False\n",
      "February      True\n",
      "March        False\n",
      "April        False\n",
      "May          False\n",
      "June         False\n",
      "July         False\n",
      "August       False\n",
      "September    False\n",
      "October      False\n",
      "November      True\n",
      "December     False\n",
      "dtype: bool\n"
     ]
    }
   ],
   "source": [
    "# identifying null values\n",
    "nulos = pd.isnull(obj=temperatures)\n",
    "print(nulos)"
   ]
  },
  {
   "cell_type": "code",
   "execution_count": 8,
   "id": "4bfb05bd",
   "metadata": {},
   "outputs": [
    {
     "name": "stdout",
     "output_type": "stream",
     "text": [
      "January      30.1\n",
      "February     22.5\n",
      "March        28.5\n",
      "April        21.5\n",
      "May          20.2\n",
      "June         18.4\n",
      "July         16.5\n",
      "August       17.0\n",
      "September    19.5\n",
      "October      23.4\n",
      "November     22.5\n",
      "December     29.9\n",
      "dtype: float64\n"
     ]
    }
   ],
   "source": [
    "fullfilled_temps = temperatures.fillna(temperatures.mean())\n",
    "print(fullfilled_temps)"
   ]
  },
  {
   "cell_type": "code",
   "execution_count": 9,
   "id": "12151788",
   "metadata": {},
   "outputs": [
    {
     "name": "stdout",
     "output_type": "stream",
     "text": [
      "January      30.1\n",
      "March        28.5\n",
      "April        21.5\n",
      "May          20.2\n",
      "June         18.4\n",
      "July         16.5\n",
      "August       17.0\n",
      "September    19.5\n",
      "October      23.4\n",
      "December     29.9\n",
      "dtype: float64\n"
     ]
    }
   ],
   "source": [
    "treated_df_temps = temperatures.dropna()\n",
    "print(treated_df_temps)"
   ]
  }
 ],
 "metadata": {
  "kernelspec": {
   "display_name": ".venv",
   "language": "python",
   "name": "python3"
  },
  "language_info": {
   "codemirror_mode": {
    "name": "ipython",
    "version": 3
   },
   "file_extension": ".py",
   "mimetype": "text/x-python",
   "name": "python",
   "nbconvert_exporter": "python",
   "pygments_lexer": "ipython3",
   "version": "3.12.2"
  }
 },
 "nbformat": 4,
 "nbformat_minor": 5
}
