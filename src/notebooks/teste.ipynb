{
 "cells": [
  {
   "cell_type": "code",
   "execution_count": 1,
   "id": "3f742ee5",
   "metadata": {},
   "outputs": [],
   "source": [
    "from fastapi import FastAPI\n",
    "# ou qualquer outro módulo do seu projeto"
   ]
  },
  {
   "cell_type": "code",
   "execution_count": 2,
   "id": "bb54bedf",
   "metadata": {},
   "outputs": [
    {
     "name": "stdout",
     "output_type": "stream",
     "text": [
      "Jupyter configurado ;)\n"
     ]
    }
   ],
   "source": [
    "print(\"Jupyter configurado ;)\")"
   ]
  },
  {
   "cell_type": "code",
   "execution_count": 5,
   "id": "601f5d59",
   "metadata": {},
   "outputs": [
    {
     "name": "stdout",
     "output_type": "stream",
     "text": [
      "o resultado soma de de 1+1 é : 2\n"
     ]
    }
   ],
   "source": [
    "print(f\"o resultado soma de de 1+1 é : {1+1}\")"
   ]
  },
  {
   "cell_type": "code",
   "execution_count": 6,
   "id": "633e0067",
   "metadata": {},
   "outputs": [],
   "source": [
    "def soma(x, y):\n",
    "    resultado = x + y\n",
    "    return resultado"
   ]
  },
  {
   "cell_type": "code",
   "execution_count": 7,
   "id": "ef0ed498",
   "metadata": {},
   "outputs": [
    {
     "name": "stdout",
     "output_type": "stream",
     "text": [
      "25\n"
     ]
    }
   ],
   "source": [
    "z = soma(10, 15)\n",
    "print(z)"
   ]
  }
 ],
 "metadata": {
  "kernelspec": {
   "display_name": ".venv",
   "language": "python",
   "name": "python3"
  },
  "language_info": {
   "codemirror_mode": {
    "name": "ipython",
    "version": 3
   },
   "file_extension": ".py",
   "mimetype": "text/x-python",
   "name": "python",
   "nbconvert_exporter": "python",
   "pygments_lexer": "ipython3",
   "version": "3.12.2"
  }
 },
 "nbformat": 4,
 "nbformat_minor": 5
}
