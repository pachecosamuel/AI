{
 "cells": [
  {
   "cell_type": "code",
   "execution_count": 10,
   "id": "8e2b063a",
   "metadata": {},
   "outputs": [],
   "source": [
    "from sklearn.metrics import mean_squared_error\n",
    "import numpy as np"
   ]
  },
  {
   "cell_type": "code",
   "execution_count": 7,
   "id": "a29eb50d",
   "metadata": {},
   "outputs": [],
   "source": [
    "y_true = [3, -0.5, 2, 7]\n",
    "y_pred = [2.5, 0, 2, 8]"
   ]
  },
  {
   "cell_type": "code",
   "execution_count": 9,
   "id": "4b1c028a",
   "metadata": {},
   "outputs": [
    {
     "name": "stdout",
     "output_type": "stream",
     "text": [
      "O erro quadrático médio do modelo é: 0.375\n"
     ]
    }
   ],
   "source": [
    "mse = mean_squared_error(y_true, y_pred)\n",
    "\n",
    "print(f\"O erro quadrático médio do modelo é: {mse}\")"
   ]
  },
  {
   "cell_type": "code",
   "execution_count": 11,
   "id": "7e155d66",
   "metadata": {},
   "outputs": [
    {
     "name": "stdout",
     "output_type": "stream",
     "text": [
      "O Rmse do modelo é: 0.10\n"
     ]
    }
   ],
   "source": [
    "y_true = [1.5, 2.5, 3.5, 4.5]\n",
    "y_pred = [1.4, 2.4, 3.6, 4.6]\n",
    "\n",
    "mse = mean_squared_error(y_true, y_pred)\n",
    "\n",
    "rmse = np.sqrt(mse)\n",
    "\n",
    "print(f\"O Rmse do modelo é: {rmse:.2f}\")"
   ]
  }
 ],
 "metadata": {
  "kernelspec": {
   "display_name": ".venv",
   "language": "python",
   "name": "python3"
  },
  "language_info": {
   "codemirror_mode": {
    "name": "ipython",
    "version": 3
   },
   "file_extension": ".py",
   "mimetype": "text/x-python",
   "name": "python",
   "nbconvert_exporter": "python",
   "pygments_lexer": "ipython3",
   "version": "3.12.2"
  }
 },
 "nbformat": 4,
 "nbformat_minor": 5
}
