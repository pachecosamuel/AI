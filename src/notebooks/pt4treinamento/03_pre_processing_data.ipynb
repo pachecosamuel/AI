{
 "cells": [
  {
   "cell_type": "code",
   "execution_count": 3,
   "id": "c137eba4",
   "metadata": {},
   "outputs": [
    {
     "name": "stdout",
     "output_type": "stream",
     "text": [
      "(10, 6)\n",
      "   Idade Gênero  Colesterol  Pressão Sanguínea Fumante  Risco\n",
      "0   25.0      F       190.0                 70     Não  baixo\n",
      "1   35.0      M         NaN                 80     Sim  médio\n",
      "2   45.0      F       240.0                 78     Não   alto\n",
      "3    NaN      F       225.0                 75     Não  baixo\n",
      "4   55.0      M       210.0                 72     Sim   alto\n",
      "5   65.0      M         NaN                130     Não  médio\n",
      "6   75.0      F       180.0                 60     Sim  baixo\n",
      "7    NaN      M       195.0                 85     Não  médio\n",
      "8   85.0      F       220.0                 90     Não  baixo\n",
      "9   95.0      M         NaN                 77     Sim   alto\n"
     ]
    }
   ],
   "source": [
    "import numpy as np\n",
    "import pandas as pd\n",
    "\n",
    "# Dados de exemplo\n",
    "data = {\n",
    "    'Idade': [25, 35, 45, np.nan, 55, 65, 75, np.nan, 85, 95],\n",
    "    'Gênero': ['F', 'M', 'F', 'F', 'M', 'M', 'F', 'M', 'F', 'M'],\n",
    "    'Colesterol': [190, np.nan, 240, 225, 210, np.nan, 180, 195, 220, np.nan],\n",
    "    'Pressão Sanguínea': [70, 80, 78, 75, 72, 130, 60, 85, 90, 77],\n",
    "    'Fumante': ['Não', 'Sim', 'Não', 'Não', 'Sim', 'Não', 'Sim', 'Não', 'Não', 'Sim'],\n",
    "    'Risco': ['baixo', 'médio', 'alto', 'baixo', 'alto', 'médio', 'baixo', 'médio', 'baixo', 'alto']\n",
    "}\n",
    "\n",
    "df = pd.DataFrame(data)\n",
    "print(df.shape)\n",
    "print(df)"
   ]
  },
  {
   "cell_type": "code",
   "execution_count": 11,
   "id": "4c0d6a3d",
   "metadata": {},
   "outputs": [
    {
     "name": "stdout",
     "output_type": "stream",
     "text": [
      "   Idade Gênero  Colesterol  Pressão Sanguínea Fumante  Risco\n",
      "0   25.0      F  190.000000                 70     Não  baixo\n",
      "1   35.0      M  208.571429                 80     Sim  médio\n",
      "2   45.0      F  240.000000                 78     Não   alto\n",
      "3   60.0      F  225.000000                 75     Não  baixo\n",
      "4   55.0      M  210.000000                 72     Sim   alto\n",
      "5   65.0      M  208.571429                130     Não  médio\n",
      "6   75.0      F  180.000000                 60     Sim  baixo\n",
      "7   60.0      M  195.000000                 85     Não  médio\n",
      "8   85.0      F  220.000000                 90     Não  baixo\n",
      "9   95.0      M  208.571429                 77     Sim   alto\n"
     ]
    }
   ],
   "source": [
    "from sklearn.impute import SimpleImputer\n",
    "\n",
    "imputer = SimpleImputer(missing_values=np.nan, strategy=\"mean\")\n",
    "df[\"Idade\"] = imputer.fit_transform(df[[\"Idade\"]])\n",
    "df[\"Colesterol\"] = imputer.fit_transform(df[['Colesterol']])\n",
    "\n",
    "print(df)"
   ]
  },
  {
   "cell_type": "code",
   "execution_count": null,
   "id": "e57252e7",
   "metadata": {},
   "outputs": [],
   "source": []
  },
  {
   "cell_type": "code",
   "execution_count": 12,
   "id": "589fd48e",
   "metadata": {},
   "outputs": [],
   "source": [
    "from sklearn.preprocessing import LabelEncoder, OneHotEncoder\n",
    "from sklearn.compose import ColumnTransformer\n",
    "\n",
    "# Enconding da coluna genero e fumante\n",
    "column_transformer = ColumnTransformer(\n",
    "    [('encoder', OneHotEncoder(), [\"Gênero\", \"Fumante\"])],\n",
    "    remainder=\"passthrough\"\n",
    ")\n",
    "\n",
    "# Aplicando o ColumnTransformer aos dados, excluindo a coluna 'Risco'\n",
    "x = column_transformer.fit_transform(df.drop('Risco', axis=1))\n",
    " \n",
    "# Encoding da coluna 'Risco' usando LabelEncoder\n",
    "label_encoder = LabelEncoder()\n",
    "y = label_encoder.fit_transform(df['Risco'])"
   ]
  },
  {
   "cell_type": "code",
   "execution_count": 14,
   "id": "8dc2e3ab",
   "metadata": {},
   "outputs": [
    {
     "name": "stdout",
     "output_type": "stream",
     "text": [
      "[[ 1.         -1.          0.81649658 -0.81649658 -1.70782513 -1.12281949\n",
      "  -0.65424414]\n",
      " [-1.          1.         -1.22474487  1.22474487 -1.21987509  0.\n",
      "  -0.09506111]\n",
      " [ 1.         -1.          0.81649658 -0.81649658 -0.73192505  1.90015606\n",
      "  -0.20689772]\n",
      " [ 1.         -1.          0.81649658 -0.81649658  0.          0.9932634\n",
      "  -0.37465263]\n",
      " [-1.          1.         -1.22474487  1.22474487 -0.24397502  0.08637073\n",
      "  -0.54240754]\n",
      " [-1.          1.          0.81649658 -0.81649658  0.24397502  0.\n",
      "   2.70085402]\n",
      " [ 1.         -1.         -1.22474487  1.22474487  0.73192505 -1.7274146\n",
      "  -1.21342717]\n",
      " [-1.          1.          0.81649658 -0.81649658  0.         -0.82052194\n",
      "   0.1845304 ]\n",
      " [ 1.         -1.          0.81649658 -0.81649658  1.21987509  0.69096584\n",
      "   0.46412191]\n",
      " [-1.          1.         -1.22474487  1.22474487  1.70782513  0.\n",
      "  -0.26281602]]\n"
     ]
    }
   ],
   "source": [
    "from sklearn.preprocessing import StandardScaler\n",
    "\n",
    "# Instanciando o objeto StandardScaler\n",
    "scaler = StandardScaler()\n",
    "\n",
    "# Aplicando o escalonamento no nosso array de características 'X'\n",
    "x_scaled = scaler.fit_transform(x)\n",
    "\n",
    "\n",
    "print(x_scaled)"
   ]
  }
 ],
 "metadata": {
  "kernelspec": {
   "display_name": ".venv",
   "language": "python",
   "name": "python3"
  },
  "language_info": {
   "codemirror_mode": {
    "name": "ipython",
    "version": 3
   },
   "file_extension": ".py",
   "mimetype": "text/x-python",
   "name": "python",
   "nbconvert_exporter": "python",
   "pygments_lexer": "ipython3",
   "version": "3.12.2"
  }
 },
 "nbformat": 4,
 "nbformat_minor": 5
}
