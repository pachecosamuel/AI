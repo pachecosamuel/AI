{
 "cells": [
  {
   "cell_type": "code",
   "execution_count": 1,
   "id": "1a9ee0bf",
   "metadata": {},
   "outputs": [],
   "source": [
    "# Lista dos rótulos verdadeiros\n",
    "y_true = ['spam', 'não spam', 'spam', 'não spam', 'spam', 'não spam', 'não spam', 'spam', 'spam', 'não spam']\n",
    "\n",
    "# Lista das predições do modelo\n",
    "y_pred = ['spam', 'não spam', 'spam', 'spam', 'não spam', 'não spam', 'não spam', 'spam', 'spam', 'spam']\n"
   ]
  },
  {
   "cell_type": "code",
   "execution_count": 2,
   "id": "1800c23f",
   "metadata": {},
   "outputs": [
    {
     "name": "stdout",
     "output_type": "stream",
     "text": [
      "The accuracy of the classification model is = 0.7\n"
     ]
    }
   ],
   "source": [
    "from sklearn.metrics import accuracy_score\n",
    "\n",
    "accuracy = accuracy_score(y_true, y_pred)\n",
    "\n",
    "print(f\"The accuracy of the classification model is = {accuracy}\")"
   ]
  }
 ],
 "metadata": {
  "kernelspec": {
   "display_name": ".venv",
   "language": "python",
   "name": "python3"
  },
  "language_info": {
   "codemirror_mode": {
    "name": "ipython",
    "version": 3
   },
   "file_extension": ".py",
   "mimetype": "text/x-python",
   "name": "python",
   "nbconvert_exporter": "python",
   "pygments_lexer": "ipython3",
   "version": "3.12.2"
  }
 },
 "nbformat": 4,
 "nbformat_minor": 5
}
