{
 "cells": [
  {
   "cell_type": "code",
   "execution_count": 3,
   "id": "8f244a51",
   "metadata": {},
   "outputs": [],
   "source": [
    "from sklearn.cluster import KMeans"
   ]
  },
  {
   "cell_type": "code",
   "execution_count": 4,
   "id": "e2ae2c1c",
   "metadata": {},
   "outputs": [
    {
     "name": "stdout",
     "output_type": "stream",
     "text": [
      "[[1.5 2.5]\n",
      " [7.  8. ]]\n"
     ]
    }
   ],
   "source": [
    "X = [[2,3], [1,2], [6,7], [8,9]]\n",
    "\n",
    "\n",
    "# kmeans stimator instance\n",
    "kmeans = KMeans(n_clusters=2, n_init=10)\n",
    "\n",
    "# training the models\n",
    "kmeans.fit(X)\n",
    "\n",
    "# centróides\n",
    "print(kmeans.cluster_centers_)"
   ]
  }
 ],
 "metadata": {
  "kernelspec": {
   "display_name": ".venv",
   "language": "python",
   "name": "python3"
  },
  "language_info": {
   "codemirror_mode": {
    "name": "ipython",
    "version": 3
   },
   "file_extension": ".py",
   "mimetype": "text/x-python",
   "name": "python",
   "nbconvert_exporter": "python",
   "pygments_lexer": "ipython3",
   "version": "3.12.2"
  }
 },
 "nbformat": 4,
 "nbformat_minor": 5
}
