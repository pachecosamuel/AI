{
 "cells": [
  {
   "cell_type": "code",
   "execution_count": 2,
   "id": "97617557",
   "metadata": {},
   "outputs": [],
   "source": [
    "from sklearn.linear_model import LinearRegression\n",
    "import numpy as np"
   ]
  },
  {
   "cell_type": "code",
   "execution_count": 4,
   "id": "05e65ca6",
   "metadata": {},
   "outputs": [
    {
     "name": "stdout",
     "output_type": "stream",
     "text": [
      "Coeficientes:  [1. 2.]\n",
      "Intercept:  3.0000000000000018\n"
     ]
    }
   ],
   "source": [
    "X = np.array([[1,1], [1,2], [2,2], [2,3]])\n",
    "y = np.dot(X, np.array([1,2])) + 3\n",
    "\n",
    "model = LinearRegression()\n",
    "\n",
    "model.fit(X, y)\n",
    "\n",
    "print(\"Coeficientes: \", model.coef_)\n",
    "print(\"Intercept: \", model.intercept_)"
   ]
  },
  {
   "cell_type": "code",
   "execution_count": 3,
   "id": "63095540",
   "metadata": {},
   "outputs": [
    {
     "name": "stdout",
     "output_type": "stream",
     "text": [
      "[3.]\n"
     ]
    }
   ],
   "source": [
    "# data examples\n",
    "x_train = [[0,0], [1,1], [2,2]]\n",
    "y_train = [0,1,2]\n",
    "\n",
    "# instance\n",
    "regressor = LinearRegression()\n",
    "\n",
    "# training the model\n",
    "regressor.fit(x_train, y_train)\n",
    "\n",
    "# make the forecast\n",
    "x_test = [[3,3]]\n",
    "y_pred = regressor.predict(x_test)\n",
    "print(y_pred)"
   ]
  }
 ],
 "metadata": {
  "kernelspec": {
   "display_name": ".venv",
   "language": "python",
   "name": "python3"
  },
  "language_info": {
   "codemirror_mode": {
    "name": "ipython",
    "version": 3
   },
   "file_extension": ".py",
   "mimetype": "text/x-python",
   "name": "python",
   "nbconvert_exporter": "python",
   "pygments_lexer": "ipython3",
   "version": "3.12.2"
  }
 },
 "nbformat": 4,
 "nbformat_minor": 5
}
